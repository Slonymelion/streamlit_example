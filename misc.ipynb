{
 "cells": [
  {
   "cell_type": "code",
   "execution_count": 1,
   "source": [
    "import numpy as np"
   ],
   "outputs": [],
   "metadata": {}
  },
  {
   "cell_type": "code",
   "execution_count": 4,
   "source": [
    "a = [1, 1.5, None, 2, None, 3, 4, None, None]\r\n",
    "a[3-a[:4][::-1].index(None)]"
   ],
   "outputs": [],
   "metadata": {}
  }
 ],
 "metadata": {
  "orig_nbformat": 4,
  "language_info": {
   "name": "python",
   "version": "3.7.7",
   "mimetype": "text/x-python",
   "codemirror_mode": {
    "name": "ipython",
    "version": 3
   },
   "pygments_lexer": "ipython3",
   "nbconvert_exporter": "python",
   "file_extension": ".py"
  },
  "kernelspec": {
   "name": "python3",
   "display_name": "Python 3.7.7 64-bit ('hfpt': conda)"
  },
  "interpreter": {
   "hash": "dcae291eb72f2f6a96e04677a906b55e34ca925e35e77866a67e210307e3c390"
  }
 },
 "nbformat": 4,
 "nbformat_minor": 2
}